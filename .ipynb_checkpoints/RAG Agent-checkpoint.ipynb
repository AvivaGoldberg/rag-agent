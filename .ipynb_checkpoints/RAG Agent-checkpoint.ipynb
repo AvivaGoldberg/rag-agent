{
 "cells": [
  {
   "cell_type": "markdown",
   "id": "11acf82a-225c-4225-adda-7aa95a351845",
   "metadata": {},
   "source": [
    "# RAG by Hand"
   ]
  },
  {
   "cell_type": "markdown",
   "id": "0aa87f16-01e8-4f6e-af0a-acfcce4d40d4",
   "metadata": {},
   "source": [
    "## My imports"
   ]
  },
  {
   "cell_type": "code",
   "execution_count": 2,
   "id": "054d4389-59b4-4676-b725-a8f6ed330d67",
   "metadata": {},
   "outputs": [],
   "source": [
    "from langchain_community.document_loaders import PyPDFLoader\n",
    "from langchain_community.document_loaders import PyMuPDFLoader\n",
    "from langchain.text_splitter import RecursiveCharacterTextSplitter"
   ]
  },
  {
   "cell_type": "code",
   "execution_count": null,
   "id": "19b4ba3d-b11d-4117-a1db-676d3ab07d8d",
   "metadata": {},
   "outputs": [],
   "source": []
  }
 ],
 "metadata": {
  "kernelspec": {
   "display_name": "Python 3 (ipykernel)",
   "language": "python",
   "name": "python3"
  },
  "language_info": {
   "codemirror_mode": {
    "name": "ipython",
    "version": 3
   },
   "file_extension": ".py",
   "mimetype": "text/x-python",
   "name": "python",
   "nbconvert_exporter": "python",
   "pygments_lexer": "ipython3",
   "version": "3.10.12"
  }
 },
 "nbformat": 4,
 "nbformat_minor": 5
}

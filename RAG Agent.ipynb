{
 "cells": [
  {
   "cell_type": "markdown",
   "id": "11acf82a-225c-4225-adda-7aa95a351845",
   "metadata": {},
   "source": [
    "# RAG by Hand"
   ]
  },
  {
   "cell_type": "markdown",
   "id": "0aa87f16-01e8-4f6e-af0a-acfcce4d40d4",
   "metadata": {},
   "source": [
    "## My imports"
   ]
  },
  {
   "cell_type": "code",
   "execution_count": 1,
   "id": "054d4389-59b4-4676-b725-a8f6ed330d67",
   "metadata": {},
   "outputs": [],
   "source": [
    "from langchain_community.document_loaders import PyPDFLoader\n",
    "from langchain_community.document_loaders import PyMuPDFLoader\n",
    "from langchain.text_splitter import RecursiveCharacterTextSplitter"
   ]
  },
  {
   "cell_type": "markdown",
   "id": "d7aa3f88-aae1-4e14-9844-d8d1ea4ee215",
   "metadata": {},
   "source": [
    "## My documents"
   ]
  },
  {
   "cell_type": "code",
   "execution_count": 2,
   "id": "5bfd9dc3-9b67-49c5-b562-73a643ef93af",
   "metadata": {},
   "outputs": [],
   "source": [
    "all_documents = []\n",
    "file_paths = [\n",
    "    \"data/iss-const.pdf\"\n",
    "]"
   ]
  },
  {
   "cell_type": "code",
   "execution_count": 3,
   "id": "ab4c8e1e-652d-4775-b500-b05d634adf24",
   "metadata": {},
   "outputs": [],
   "source": [
    "for file_path in file_paths:\n",
    "    loader = PyMuPDFLoader(file_path)\n",
    "    documents = loader.load()\n",
    "\n",
    "    # Add metadata to each document\n",
    "    for doc in documents:\n",
    "        doc.metadata[\"source\"] = file_path\n",
    "        all_documents.append(doc)"
   ]
  },
  {
   "cell_type": "code",
   "execution_count": 4,
   "id": "106fbccd-0e8f-4371-bf1d-4203d7f6aaab",
   "metadata": {},
   "outputs": [
    {
     "name": "stdout",
     "output_type": "stream",
     "text": [
      "9\n"
     ]
    }
   ],
   "source": [
    "print(len(all_documents))"
   ]
  },
  {
   "cell_type": "code",
   "execution_count": 5,
   "id": "6c2af772-d995-43a2-934c-ece8e55523ae",
   "metadata": {},
   "outputs": [
    {
     "name": "stdout",
     "output_type": "stream",
     "text": [
      "page_content='The Indian Springs School Constitution\n",
      "Preamble\n",
      "Under the freedom granted the faculty and students of Indian Springs School by the Board of Governors of the\n",
      "Alabama Educational Foundation, the governing body of Indian Springs School, there is herewith created the official Indian\n",
      "Springs School Constitution.\n",
      "The purpose of the Indian Springs School Constitution and Government is to promote living and learning in accordance\n",
      "with humane and democratic values and principles, thereby contributing to the intellectual, physical, emotional, spiritual, and\n",
      "ethical development of all members of the Indian Springs school-community.\n",
      "In establishing this Constitution, the members of the Indian Springs school-community affirm that students and teachers\n",
      "do not have to accept themselves or their surroundings as they are but that it is within their power to improve both through\n",
      "participation in constructive change. Such participation enhances the worth and dignity of humankind, develops responsibility,\n",
      "and leads persons to the realization of latent powers.\n",
      "Article I – School-Community Life\n",
      "The school-community exists for the purpose of providing an environment in which each individual can develop to his\n",
      "or her full stature.\n",
      "I. Rights\n",
      "Each individual has certain rights that are equal for each person. Individuals are guaranteed maximum freedom so long\n",
      "as they do not infringe upon the rights of others or threaten the general welfare of the school-community.\n",
      "This Constitution guarantees:\n",
      "1. The right to freedom of religion, speech, inquiry, and criticism.\n",
      "2. The right of students to select representatives in the government.\n",
      "3. The right of students to run for public office.\n",
      "4. The right to petition the Council or Faculty.\n",
      "5. The right to assemble peacefully.\n",
      "6. The right to be considered innocent until proven guilty.\n",
      "II. Values and Ideals\n",
      "Certain values and ideals are prized because they contribute to making the school-community a better place in which to\n",
      "live and learn. Each individual is responsible for working toward the realization of these values and ideals.\n",
      "In our school-community, we aspire to:\n",
      "1. Show respect towards the opinions and beliefs of others.\n",
      "2. Develop genuine friendships.\n",
      "3. Respect the worth and dignity of the individual.\n",
      "4. Widen the area of common agreement by which decisions are made and actions taken.\n",
      "5. Develop personal integrity and moral courage.\n",
      "6. Help individuals to develop their talents and skills.\n",
      "7. Stimulate individuals to give direct, unselfish service to the school-community.\n",
      "8. Reflect disapproval of behavior wherein one individual does or says things harmful to another or to the good name of\n",
      "the school.\n",
      "9. Prohibit any organized group that divides or tends to divide the school-community.' metadata={'producer': 'Skia/PDF m117 Google Docs Renderer', 'creator': '', 'creationdate': '', 'source': 'data/iss-const.pdf', 'file_path': 'data/iss-const.pdf', 'total_pages': 9, 'format': 'PDF 1.4', 'title': 'Constitution', 'author': '', 'subject': '', 'keywords': '', 'moddate': '', 'trapped': '', 'modDate': '', 'creationDate': '', 'page': 0}\n"
     ]
    }
   ],
   "source": [
    "print(all_documents[0])"
   ]
  },
  {
   "cell_type": "code",
   "execution_count": 6,
   "id": "ebb1fa0a-574c-4107-87e8-bc9cf06e69cc",
   "metadata": {},
   "outputs": [],
   "source": [
    "with open(\"data/iss-const.txt\", \"a\") as file:\n",
    "    for doc in all_documents:\n",
    "        file.write(doc.page_content + \"\\n\")  # Append each string with a newline"
   ]
  },
  {
   "cell_type": "code",
   "execution_count": 10,
   "id": "8e2379bf-4df8-4998-b4c1-3e075fa270cd",
   "metadata": {},
   "outputs": [],
   "source": [
    "text_splitter = RecursiveCharacterTextSplitter(\n",
    "    # chunk_size=200,\n",
    "    # chunk_overlap=50\n",
    "    chunk_size=2048,\n",
    "    chunk_overlap=256,\n",
    "    separators=[\"\\n\\n\", \"\\n\", \" \"]\n",
    ")\n",
    "# Split document into chunks with metadata\n",
    "chunked_documents = text_splitter.split_documents(all_documents)"
   ]
  },
  {
   "cell_type": "code",
   "execution_count": 8,
   "id": "a886fc78-9676-45d5-b75e-ee535fd6195a",
   "metadata": {},
   "outputs": [
    {
     "name": "stdout",
     "output_type": "stream",
     "text": [
      "<class 'langchain_core.documents.base.Document'>\n"
     ]
    }
   ],
   "source": [
    "print(type(chunked_documents[0]))"
   ]
  },
  {
   "cell_type": "code",
   "execution_count": 11,
   "id": "cceceff0-704a-4910-bb5a-a3ffdfe4985c",
   "metadata": {},
   "outputs": [
    {
     "name": "stdout",
     "output_type": "stream",
     "text": [
      "23\n"
     ]
    }
   ],
   "source": [
    "print(len(chunked_documents))"
   ]
  },
  {
   "cell_type": "code",
   "execution_count": null,
   "id": "1896f331-9804-419a-92b0-001fb0a902f6",
   "metadata": {},
   "outputs": [],
   "source": []
  }
 ],
 "metadata": {
  "kernelspec": {
   "display_name": "Python 3 (ipykernel)",
   "language": "python",
   "name": "python3"
  },
  "language_info": {
   "codemirror_mode": {
    "name": "ipython",
    "version": 3
   },
   "file_extension": ".py",
   "mimetype": "text/x-python",
   "name": "python",
   "nbconvert_exporter": "python",
   "pygments_lexer": "ipython3",
   "version": "3.10.12"
  }
 },
 "nbformat": 4,
 "nbformat_minor": 5
}

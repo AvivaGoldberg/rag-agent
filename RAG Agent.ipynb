{
 "cells": [
  {
   "cell_type": "markdown",
   "id": "11acf82a-225c-4225-adda-7aa95a351845",
   "metadata": {},
   "source": [
    "# RAG by Hand"
   ]
  },
  {
   "cell_type": "markdown",
   "id": "0aa87f16-01e8-4f6e-af0a-acfcce4d40d4",
   "metadata": {},
   "source": [
    "## My imports"
   ]
  },
  {
   "cell_type": "code",
   "execution_count": 1,
   "id": "054d4389-59b4-4676-b725-a8f6ed330d67",
   "metadata": {},
   "outputs": [],
   "source": [
    "from langchain_community.document_loaders import PyPDFLoader\n",
    "from langchain_community.document_loaders import PyMuPDFLoader\n",
    "from langchain.text_splitter import RecursiveCharacterTextSplitter"
   ]
  },
  {
   "cell_type": "markdown",
   "id": "d7aa3f88-aae1-4e14-9844-d8d1ea4ee215",
   "metadata": {},
   "source": [
    "## My documents"
   ]
  },
  {
   "cell_type": "code",
   "execution_count": 5,
   "id": "5bfd9dc3-9b67-49c5-b562-73a643ef93af",
   "metadata": {},
   "outputs": [],
   "source": [
    "all_documents = []\n",
    "file_paths = [\n",
    "    \"data/iss-const.pdf\",\n",
    "    \"data/Read N Heed 2024-2025.pdf\"\n",
    "]"
   ]
  },
  {
   "cell_type": "code",
   "execution_count": 6,
   "id": "ab4c8e1e-652d-4775-b500-b05d634adf24",
   "metadata": {},
   "outputs": [],
   "source": [
    "for file_path in file_paths:\n",
    "    loader = PyMuPDFLoader(file_path)\n",
    "    documents = loader.load()\n",
    "\n",
    "    # Add metadata to each document\n",
    "    for doc in documents:\n",
    "        doc.metadata[\"source\"] = file_path\n",
    "        all_documents.append(doc)"
   ]
  },
  {
   "cell_type": "code",
   "execution_count": 7,
   "id": "106fbccd-0e8f-4371-bf1d-4203d7f6aaab",
   "metadata": {},
   "outputs": [
    {
     "name": "stdout",
     "output_type": "stream",
     "text": [
      "41\n"
     ]
    }
   ],
   "source": [
    "print(len(all_documents))"
   ]
  },
  {
   "cell_type": "code",
   "execution_count": 75,
   "id": "6c2af772-d995-43a2-934c-ece8e55523ae",
   "metadata": {},
   "outputs": [],
   "source": [
    "#print(all_documents[0])"
   ]
  },
  {
   "cell_type": "code",
   "execution_count": 9,
   "id": "ebb1fa0a-574c-4107-87e8-bc9cf06e69cc",
   "metadata": {},
   "outputs": [],
   "source": [
    "with open(\"data/iss-const.txt\", \"a\") as file:\n",
    "    for doc in all_documents:\n",
    "        file.write(doc.page_content + \"\\n\")  # Append each string with a newline"
   ]
  },
  {
   "cell_type": "code",
   "execution_count": 10,
   "id": "8e2379bf-4df8-4998-b4c1-3e075fa270cd",
   "metadata": {},
   "outputs": [],
   "source": [
    "text_splitter = RecursiveCharacterTextSplitter(\n",
    "    # chunk_size=200,\n",
    "    # chunk_overlap=50\n",
    "    chunk_size=1024,\n",
    "    chunk_overlap=256,\n",
    "    separators=[\"\\n\\n\", \"\\n\", \" \"]\n",
    ")\n",
    "# Split document into chunks with metadata\n",
    "chunked_documents = text_splitter.split_documents(all_documents)"
   ]
  },
  {
   "cell_type": "code",
   "execution_count": 11,
   "id": "a886fc78-9676-45d5-b75e-ee535fd6195a",
   "metadata": {},
   "outputs": [
    {
     "name": "stdout",
     "output_type": "stream",
     "text": [
      "<class 'langchain_core.documents.base.Document'>\n"
     ]
    }
   ],
   "source": [
    "print(type(chunked_documents[0]))"
   ]
  },
  {
   "cell_type": "code",
   "execution_count": 12,
   "id": "adf5c4fc-c565-4d49-8d00-6f8a68d6f4e0",
   "metadata": {},
   "outputs": [
    {
     "name": "stdout",
     "output_type": "stream",
     "text": [
      "page_content='The Indian Springs School Constitution\n",
      "Preamble\n",
      "Under the freedom granted the faculty and students of Indian Springs School by the Board of Governors of the\n",
      "Alabama Educational Foundation, the governing body of Indian Springs School, there is herewith created the official Indian\n",
      "Springs School Constitution.\n",
      "The purpose of the Indian Springs School Constitution and Government is to promote living and learning in accordance\n",
      "with humane and democratic values and principles, thereby contributing to the intellectual, physical, emotional, spiritual, and\n",
      "ethical development of all members of the Indian Springs school-community.\n",
      "In establishing this Constitution, the members of the Indian Springs school-community affirm that students and teachers\n",
      "do not have to accept themselves or their surroundings as they are but that it is within their power to improve both through\n",
      "participation in constructive change. Such participation enhances the worth and dignity of humankind, develops responsibility,' metadata={'producer': 'Skia/PDF m117 Google Docs Renderer', 'creator': '', 'creationdate': '', 'source': 'data/iss-const.pdf', 'file_path': 'data/iss-const.pdf', 'total_pages': 9, 'format': 'PDF 1.4', 'title': 'Constitution', 'author': '', 'subject': '', 'keywords': '', 'moddate': '', 'trapped': '', 'modDate': '', 'creationDate': '', 'page': 0}\n"
     ]
    }
   ],
   "source": [
    "print((chunked_documents[0]))"
   ]
  },
  {
   "cell_type": "code",
   "execution_count": 13,
   "id": "cceceff0-704a-4910-bb5a-a3ffdfe4985c",
   "metadata": {},
   "outputs": [
    {
     "name": "stdout",
     "output_type": "stream",
     "text": [
      "153\n"
     ]
    }
   ],
   "source": [
    "print(len(chunked_documents))"
   ]
  },
  {
   "cell_type": "code",
   "execution_count": 14,
   "id": "9442a5aa-41c3-4f55-97d1-1afe5b91cc9e",
   "metadata": {},
   "outputs": [
    {
     "data": {
      "text/plain": [
       "153"
      ]
     },
     "execution_count": 14,
     "metadata": {},
     "output_type": "execute_result"
    }
   ],
   "source": [
    "len(chunked_documents)"
   ]
  },
  {
   "cell_type": "markdown",
   "id": "66f80225-26ea-40e5-85f0-168cee74de5f",
   "metadata": {},
   "source": [
    "## Ollama Embedding"
   ]
  },
  {
   "cell_type": "code",
   "execution_count": 15,
   "id": "06457458-287e-4682-8e25-1bd16f040a46",
   "metadata": {},
   "outputs": [],
   "source": [
    "from ollama import Client"
   ]
  },
  {
   "cell_type": "code",
   "execution_count": 16,
   "id": "2dbfa00f-7ff8-4eec-b07f-c079684545f7",
   "metadata": {},
   "outputs": [],
   "source": [
    "client = Client(\n",
    "    host=\"http://iss-cs-hp-01.indiansprings.org:11434\"\n",
    ")"
   ]
  },
  {
   "cell_type": "code",
   "execution_count": 17,
   "id": "71e3f5aa-7da5-4deb-8c61-d46057cc95ae",
   "metadata": {},
   "outputs": [],
   "source": [
    "ollama_models = client.list()"
   ]
  },
  {
   "cell_type": "code",
   "execution_count": 18,
   "id": "e23c8eec-81ad-44ad-a3b2-92e5fb787df2",
   "metadata": {
    "scrolled": true
   },
   "outputs": [
    {
     "name": "stdout",
     "output_type": "stream",
     "text": [
      "- nomic-embed-text:latest from nomic-bert\n",
      "- llama3.3:latest from llama\n",
      "- qwen2.5:14b from qwen2\n",
      "- deepseek-r1:14b from qwen2\n",
      "- qwen2.5:latest from qwen2\n",
      "- qwen2.5-coder:latest from qwen2\n",
      "- llama3.2:latest from llama\n",
      "- deepseek-r1:latest from qwen2\n"
     ]
    }
   ],
   "source": [
    "for model in ollama_models['models']:\n",
    "    print(\"-\", model['model'], \"from\", model['details']['family'])"
   ]
  },
  {
   "cell_type": "code",
   "execution_count": 19,
   "id": "da383336-9198-479f-9a3b-76748c52ac4f",
   "metadata": {},
   "outputs": [],
   "source": [
    "vect = client.embed(model=\"nomic-embed-text\", input=chunked_documents[0].page_content)"
   ]
  },
  {
   "cell_type": "code",
   "execution_count": 20,
   "id": "8ed34a55-5bfa-40ac-92ee-bcc9039bb525",
   "metadata": {},
   "outputs": [],
   "source": [
    "#print(vect)"
   ]
  },
  {
   "cell_type": "markdown",
   "id": "9260dd2e-6efd-45be-96bc-2371a35d98e5",
   "metadata": {},
   "source": [
    "## Lets make a list of the chunks as String"
   ]
  },
  {
   "cell_type": "code",
   "execution_count": 21,
   "id": "7619eb33-359d-40b4-98be-14d4ddc02df5",
   "metadata": {},
   "outputs": [],
   "source": [
    "chunk_strings = []\n",
    "for i in range(len(chunked_documents)):\n",
    "    chunk_strings.append(chunked_documents[i].page_content)"
   ]
  },
  {
   "cell_type": "markdown",
   "id": "91bbe813-01b3-498e-a642-340fd10ffb71",
   "metadata": {},
   "source": [
    "## Number of string chunks"
   ]
  },
  {
   "cell_type": "code",
   "execution_count": 22,
   "id": "9228cec7-4e32-4064-bfea-270a746580db",
   "metadata": {},
   "outputs": [
    {
     "name": "stdout",
     "output_type": "stream",
     "text": [
      "153\n"
     ]
    }
   ],
   "source": [
    "print(len(chunk_strings))"
   ]
  },
  {
   "cell_type": "code",
   "execution_count": 23,
   "id": "c2d4c776-95d5-430e-b2d1-fcfe187434cb",
   "metadata": {},
   "outputs": [],
   "source": [
    "vect = client.embed(model=\"nomic-embed-text\", input=chunk_strings)"
   ]
  },
  {
   "cell_type": "code",
   "execution_count": 24,
   "id": "7214c68f-83c5-46e0-bdda-169362f2c829",
   "metadata": {},
   "outputs": [
    {
     "name": "stdout",
     "output_type": "stream",
     "text": [
      "153\n"
     ]
    }
   ],
   "source": [
    "print(len(vect.embeddings))"
   ]
  },
  {
   "cell_type": "code",
   "execution_count": 25,
   "id": "407c994f-b716-43d6-9b82-2cf2f0f01950",
   "metadata": {},
   "outputs": [],
   "source": [
    "# print(vect.embeddings)"
   ]
  },
  {
   "cell_type": "code",
   "execution_count": 26,
   "id": "5abda2d3-f6ee-4798-9a7d-53870ae4b551",
   "metadata": {},
   "outputs": [],
   "source": [
    "# print(vect['model'])\n",
    "# print(len(vect['embeddings'][0]))\n",
    "# print(vect['embeddings'][0])"
   ]
  },
  {
   "cell_type": "code",
   "execution_count": 27,
   "id": "e235f624-32ff-45a8-806b-4a3f7c9f933c",
   "metadata": {},
   "outputs": [],
   "source": [
    "just_embeddings = (vect.embeddings)"
   ]
  },
  {
   "cell_type": "code",
   "execution_count": 28,
   "id": "ae31329f-8915-4457-864f-36dc423cebd5",
   "metadata": {},
   "outputs": [
    {
     "name": "stdout",
     "output_type": "stream",
     "text": [
      "<class 'list'>\n",
      "153\n"
     ]
    }
   ],
   "source": [
    "print(type(just_embeddings))\n",
    "print(len(just_embeddings))"
   ]
  },
  {
   "cell_type": "markdown",
   "id": "7a9b8b0c-86fe-4117-ad9c-9d841179e3eb",
   "metadata": {},
   "source": [
    "# Query Creations"
   ]
  },
  {
   "cell_type": "code",
   "execution_count": 119,
   "id": "157f7076-5104-4b64-acbd-8126a1ff97a4",
   "metadata": {},
   "outputs": [],
   "source": [
    "query = \"Who is on the Discipline Committee and what does it do\"\n",
    "# query = \"What is academic dishonesty and how is it defined\"\n",
    "# query = \"Can you swim in the lake at night or alone\"\n",
    "# query = \"What is the job of the Council\"\n",
    "# query = \"What is the job of the Mayor\"\n",
    "# query = \"What are Student Standards and how do they work\"\n",
    "# query = \"What is Judiciary and how does work\"\n",
    "query_embed_response = client.embed(model=\"nomic-embed-text\", input=query)\n",
    "query_embed = query_embed_response.embeddings[0]\n",
    "# print(query_embed)"
   ]
  },
  {
   "cell_type": "markdown",
   "id": "0d1669dc-d4f9-4027-995c-83d9223a9a66",
   "metadata": {},
   "source": [
    "## Make numpy arrays for dot product"
   ]
  },
  {
   "cell_type": "code",
   "execution_count": 120,
   "id": "97edb562-469a-41e1-acbe-e7d8a04830e0",
   "metadata": {},
   "outputs": [
    {
     "name": "stdout",
     "output_type": "stream",
     "text": [
      "<class 'numpy.ndarray'> (768,)\n",
      "<class 'numpy.ndarray'> (153, 768)\n"
     ]
    }
   ],
   "source": [
    "import numpy as np\n",
    "np_query_embed = np.asarray(query_embed)\n",
    "print(type(np_query_embed), np_query_embed.shape)\n",
    "\n",
    "np_just_embeddings = np.asarray(just_embeddings)\n",
    "print(type(np_just_embeddings), np_just_embeddings.shape)"
   ]
  },
  {
   "cell_type": "markdown",
   "id": "f99f8336-892a-4462-8b35-b4ef657a4d08",
   "metadata": {},
   "source": [
    "## Similarities"
   ]
  },
  {
   "cell_type": "markdown",
   "id": "49353058-fb1d-45eb-b361-f4e247a281a2",
   "metadata": {},
   "source": [
    "### Get the similarities"
   ]
  },
  {
   "cell_type": "code",
   "execution_count": 121,
   "id": "082caf89-e19b-4eb7-8281-0bd831227307",
   "metadata": {},
   "outputs": [],
   "source": [
    "similarities = np.dot(np_just_embeddings, np_query_embed.T)"
   ]
  },
  {
   "cell_type": "code",
   "execution_count": 122,
   "id": "b5f41d3e-9e41-4fcf-87eb-802d31c8b0ea",
   "metadata": {},
   "outputs": [
    {
     "name": "stdout",
     "output_type": "stream",
     "text": [
      "<class 'numpy.ndarray'>\n",
      "(153,)\n",
      "[0.46902013 0.44931723 0.48185148 0.53880977 0.45262002 0.47724107\n",
      " 0.50562393 0.53602204 0.53497304 0.53271968 0.5750069  0.53890102\n",
      " 0.57911457 0.53910195 0.49533473 0.50655844 0.56091713 0.5620259\n",
      " 0.59662661 0.5927909  0.6179489  0.5292511  0.49577356 0.55072399\n",
      " 0.58064339 0.51109457 0.53968041 0.55589257 0.58372818 0.55371864\n",
      " 0.50530584 0.51672963 0.54358143 0.54219972 0.52575745 0.47115518\n",
      " 0.46762613 0.42497375 0.48551694 0.44519502 0.51358749 0.48252684\n",
      " 0.50090556 0.51381688 0.51579792 0.49311499 0.48446996 0.48644157\n",
      " 0.45510272 0.50613447 0.5090481  0.54100094 0.49535477 0.44588436\n",
      " 0.45906076 0.39578518 0.35827053 0.46215533 0.34715635 0.33671867\n",
      " 0.37410055 0.38993368 0.34368434 0.38553266 0.35657548 0.43298542\n",
      " 0.50245024 0.51897842 0.5078056  0.46845015 0.50765147 0.46929417\n",
      " 0.50308523 0.52900694 0.52386777 0.51154725 0.54631699 0.59171838\n",
      " 0.52419256 0.49623705 0.66836143 0.72243694 0.67314037 0.56331099\n",
      " 0.6080486  0.70096378 0.77158338 0.64439708 0.56268688 0.58402167\n",
      " 0.6509535  0.59413107 0.57391204 0.52833097 0.46471842 0.52065261\n",
      " 0.50281301 0.45662232 0.44510608 0.49535386 0.43477522 0.4010059\n",
      " 0.41288718 0.43710783 0.44001759 0.45740368 0.51263566 0.52415144\n",
      " 0.52115512 0.51256199 0.44300705 0.45959913 0.50010396 0.52348428\n",
      " 0.47232683 0.5005437  0.52295274 0.50639822 0.48665159 0.44106234\n",
      " 0.45900685 0.51286307 0.43141118 0.48358701 0.45455462 0.46642484\n",
      " 0.50710831 0.47933593 0.48721469 0.49099085 0.51914245 0.51085941\n",
      " 0.48951645 0.52186924 0.49310711 0.56880752 0.45888696 0.52935047\n",
      " 0.53191477 0.43310417 0.443419   0.44236512 0.39390539 0.45096087\n",
      " 0.52347209 0.45160423 0.47624718 0.4338434  0.46125865 0.51643272\n",
      " 0.43255825 0.49727183 0.50816   ]\n",
      "0.7715833787094135\n",
      "86\n",
      "0.5023447825669806\n"
     ]
    }
   ],
   "source": [
    "print(type(similarities))\n",
    "print(similarities.shape)\n",
    "print(similarities)\n",
    "print(similarities.max())\n",
    "print(similarities.argmax())\n",
    "print(similarities.mean())"
   ]
  },
  {
   "cell_type": "code",
   "execution_count": 123,
   "id": "ccf228f7-6552-4e9b-9994-97fbcd01c430",
   "metadata": {},
   "outputs": [
    {
     "data": {
      "image/png": "[encoded data removed]",
      "text/plain": [
       "<Figure size 640x480 with 1 Axes>"
      ]
     },
     "metadata": {},
     "output_type": "display_data"
    }
   ],
   "source": [
    "import matplotlib.pyplot as plt\n",
    "from scipy import stats\n",
    "\n",
    "# Display the histogram of your numpy array 'similarities'\n",
    "plt.hist(similarities, bins=10, edgecolor='black')\n",
    "plt.title('Histogram of Similarities')\n",
    "\n",
    "# Calculate the mean, median, and quartiles\n",
    "mean_value = np.mean(similarities)\n",
    "median_value = np.median(similarities)\n",
    "quartile1 = np.percentile(similarities, 25)\n",
    "quartile3 = np.percentile(similarities, 75)\n",
    "\n",
    "# Display the mean, median, and quartiles on the histogram\n",
    "plt.axvline(mean_value, color='green', label='Mean: %.2f' % (mean_value), linestyle='-')\n",
    "plt.axvline(median_value, color='red', label='Median: %.2f' % (median_value), linestyle='-')\n",
    "plt.axvline(quartile1, color='red', label='25th Percentile (Q1): %.2f' % (quartile1), linestyle='--')\n",
    "plt.axvline(quartile3, color='red', label='75th Percentile (Q3): %.2f' % (quartile3), linestyle='--')\n",
    "\n",
    "# Set the x-axis limits to ensure the quartiles and mean are visible\n",
    "#plt.xlim([0, 0.8])\n",
    "#\n",
    "# Customize the plot\n",
    "plt.xlabel('Similarities')\n",
    "plt.ylabel('Frequency')\n",
    "plt.yscale('linear')\n",
    "plt.grid(True)\n",
    "plt.legend(loc='upper right')\n",
    "plt.show()"
   ]
  },
  {
   "cell_type": "code",
   "execution_count": 124,
   "id": "f6c0d98d-a16b-403a-a9db-6b4f1b157886",
   "metadata": {},
   "outputs": [
    {
     "name": "stdout",
     "output_type": "stream",
     "text": [
      "The Discipline Committee is charged with confirming what has occurred and recommending\n",
      "consequences to the Head of School. The student’s faculty advisor (or another faculty member\n",
      "at the student’s request) attends the committee meeting as an advocate and liaison. Parents do\n",
      "not attend meetings of the Discipline Committee. The Head of School or other representative of\n",
      "the School typically contacts parents within 24 hours with the School’s decision.\n",
      "Violations of major school rules may result in a student’s probation, suspension, or dismissal\n",
      "from the School. In some cases, parents may elect to withdraw their child from the School.\n",
      "In cases leading to disciplinary probation, the student is expected to maintain a record of good\n",
      "conduct during the probationary period. Depending on the violation, the Discipline Committee\n",
      "may recommend further consequences, including, but not limited to, work hours, written\n",
      "apologies, and financial restitution.\n"
     ]
    }
   ],
   "source": [
    "print(chunk_strings[similarities.argmax()])"
   ]
  },
  {
   "cell_type": "markdown",
   "id": "89209073-bf1b-4c9b-98f0-85d0e6d484b8",
   "metadata": {},
   "source": [
    "### Rank similarities"
   ]
  },
  {
   "cell_type": "code",
   "execution_count": 125,
   "id": "3716e256-a330-473d-9dbc-3b7ea8589d77",
   "metadata": {},
   "outputs": [],
   "source": [
    "top_similarities = np.flip(np.argsort(similarities, axis=0))"
   ]
  },
  {
   "cell_type": "code",
   "execution_count": 126,
   "id": "b3d8647f-5339-4f79-b95d-1cc70b24a1b4",
   "metadata": {},
   "outputs": [
    {
     "name": "stdout",
     "output_type": "stream",
     "text": [
      "[ 86  81  85  82  80  90  87  20  84  18  91  19  77  89  28  24  12  10\n",
      "  92 135  83  88  17  16  27  29  23  76  32  33  51  26  13  11   3   7\n",
      "   8   9 138 137  21  73  93  34  78 107  74 113 144 116 133 108  95 130\n",
      "  67  31 149  44  43  40 121 106 109  75  25 131  50 152  68  70 126  15\n",
      " 117  49   6  30  72  96  66  42 115 112 151  79  22  52  99  14  45 134\n",
      " 129 132 128 118  47  38  46 123  41   2 127   5 146 114  35  71   0  69\n",
      "  36 125  94  57 148 111  54 120 136 105  97  48 124   4 145 143   1  53\n",
      "  39  98 140 110 141 119 104 103 100 147 139  65 150 122  37 102 101  55\n",
      " 142  61  63  60  56  64  58  62  59]\n"
     ]
    }
   ],
   "source": [
    "print(top_similarities)"
   ]
  },
  {
   "cell_type": "code",
   "execution_count": 127,
   "id": "a64f4c81-7c23-4642-acab-4e816484fc57",
   "metadata": {},
   "outputs": [],
   "source": [
    "#top_selected = top_similarities[:6]"
   ]
  },
  {
   "cell_type": "code",
   "execution_count": 131,
   "id": "c8f57257-82a2-461e-99c2-a9c07fdc7efc",
   "metadata": {},
   "outputs": [],
   "source": [
    "#threshold = np.percentile(similarities, 75)\n",
    "top_selected = np.argwhere(similarities > 0.6).flatten()"
   ]
  },
  {
   "cell_type": "code",
   "execution_count": 132,
   "id": "52fe110a-afec-4c34-ba6b-48806415edea",
   "metadata": {},
   "outputs": [
    {
     "data": {
      "text/plain": [
       "9"
      ]
     },
     "execution_count": 132,
     "metadata": {},
     "output_type": "execute_result"
    }
   ],
   "source": [
    "threshold = np.percentile(similarities, 90)\n",
    "#top_selected = np.argwhere(similarities > threshold).flatten()\n",
    "len(top_selected)"
   ]
  },
  {
   "cell_type": "code",
   "execution_count": 133,
   "id": "4a6034c1-7c38-4a13-b0a0-65b596329d0f",
   "metadata": {},
   "outputs": [
    {
     "name": "stdout",
     "output_type": "stream",
     "text": [
      "[20 80 81 82 84 85 86 87 90]\n"
     ]
    }
   ],
   "source": [
    "print(top_selected)"
   ]
  },
  {
   "cell_type": "markdown",
   "id": "69d74bd2-a345-4864-b3da-0c7b3d55fde4",
   "metadata": {},
   "source": [
    "### Build the context of similar chunks"
   ]
  },
  {
   "cell_type": "markdown",
   "id": "47756c2d-c858-4369-be19-65ca99c2b2b6",
   "metadata": {},
   "source": [
    "coi is chunks of interest"
   ]
  },
  {
   "cell_type": "code",
   "execution_count": 134,
   "id": "396c0582-645f-42a4-a8a5-12f76e6ae233",
   "metadata": {},
   "outputs": [],
   "source": [
    "coi = [chunk_strings[idx] for idx in top_selected]"
   ]
  },
  {
   "cell_type": "code",
   "execution_count": 135,
   "id": "5692ab90-5490-4911-a60b-764a1a310641",
   "metadata": {},
   "outputs": [],
   "source": [
    "#print(coi)"
   ]
  },
  {
   "cell_type": "markdown",
   "id": "90a8aa90-6b7b-4b70-9790-d3f2d9d84afe",
   "metadata": {},
   "source": [
    "## Build the context"
   ]
  },
  {
   "cell_type": "code",
   "execution_count": 136,
   "id": "488ca259-8cc3-47af-9f53-0a5b9460b71e",
   "metadata": {},
   "outputs": [],
   "source": [
    "CONTEXT = \"\"\n",
    "for i,p in enumerate(coi):\n",
    "    CONTEXT += (p + \"\\n\\n\")"
   ]
  },
  {
   "cell_type": "code",
   "execution_count": 137,
   "id": "26647654-496a-4148-9432-48b2849a9640",
   "metadata": {},
   "outputs": [],
   "source": [
    "#print(CONTEXT)"
   ]
  },
  {
   "cell_type": "markdown",
   "id": "d1b4e0d4-3305-472d-9f80-29599ed73383",
   "metadata": {},
   "source": [
    "## Build the prompt for the LLM"
   ]
  },
  {
   "cell_type": "markdown",
   "id": "5de70ea0-f82f-4bfc-bb47-7fcec0088ef2",
   "metadata": {},
   "source": [
    "### Define the task"
   ]
  },
  {
   "cell_type": "code",
   "execution_count": 138,
   "id": "dcee34a9-c4e8-4273-8205-6b326eec7962",
   "metadata": {},
   "outputs": [],
   "source": [
    "TASK = \"\"\"\n",
    "use the following CONTEXT to answer the QUESTION at the end.\n",
    "If you do not know the answer, just say that you do not know, do not try to make up an any answers to the QUESTION\n",
    "If you do do can get an answer from the CONTEXT provided, answer the QUESTION \n",
    "in simple terms in markdown format with five  bullet points each of 20 words or less\n",
    "\"\"\""
   ]
  },
  {
   "cell_type": "code",
   "execution_count": 139,
   "id": "86c35613-bde7-43b4-b075-5fc83a75893d",
   "metadata": {},
   "outputs": [],
   "source": [
    "prompt = f\"\"\"\n",
    "\n",
    "TASK: {TASK}\n",
    "CONTEXT: {CONTEXT}\n",
    "QUESTION: {query}\n",
    "\n",
    "\"\"\""
   ]
  },
  {
   "cell_type": "code",
   "execution_count": 140,
   "id": "6a3b0360-e2d3-4815-aed9-29690a02089d",
   "metadata": {},
   "outputs": [],
   "source": [
    "# print(prompt)"
   ]
  },
  {
   "cell_type": "markdown",
   "id": "cf0d36c5-c8b3-4cce-8fe3-012b3587c83a",
   "metadata": {},
   "source": [
    "## Pass the prompt to our semi-local LLM"
   ]
  },
  {
   "cell_type": "code",
   "execution_count": 141,
   "id": "8cc3b94c-12aa-418d-a312-ab8a753a25a7",
   "metadata": {},
   "outputs": [],
   "source": [
    "response = client.chat(model=\"llama3.2\", messages=[{\"role\": \"user\", \"content\": prompt }])"
   ]
  },
  {
   "cell_type": "code",
   "execution_count": 142,
   "id": "1b2bce09-3bac-41ad-9e15-1bd2aeaf90d9",
   "metadata": {},
   "outputs": [
    {
     "name": "stdout",
     "output_type": "stream",
     "text": [
      "* The Discipline Committee is a panel of faculty members appointed by the Head of School.\n",
      "* It makes recommendations to the Head of School in cases involving Major School Rule violations.\n",
      "* Faculty members are appointed as part of this committee to recommend consequences.\n",
      "* The student's faculty advisor (or another faculty member at the student's request) attends meetings as an advocate.\n",
      "* Parents do not attend meetings, but the Head of School typically contacts them within 24 hours with the decision.\n"
     ]
    }
   ],
   "source": [
    "print(response.message.content)"
   ]
  },
  {
   "cell_type": "code",
   "execution_count": null,
   "id": "5d89a504-9a0e-451e-a11b-fcd5551885de",
   "metadata": {},
   "outputs": [],
   "source": []
  },
  {
   "cell_type": "code",
   "execution_count": null,
   "id": "d738f325-e33d-48cf-a164-c37518ad7701",
   "metadata": {},
   "outputs": [],
   "source": []
  }
 ],
 "metadata": {
  "kernelspec": {
   "display_name": "Python 3 (ipykernel)",
   "language": "python",
   "name": "python3"
  },
  "language_info": {
   "codemirror_mode": {
    "name": "ipython",
    "version": 3
   },
   "file_extension": ".py",
   "mimetype": "text/x-python",
   "name": "python",
   "nbconvert_exporter": "python",
   "pygments_lexer": "ipython3",
   "version": "3.10.12"
  }
 },
 "nbformat": 4,
 "nbformat_minor": 5
}
